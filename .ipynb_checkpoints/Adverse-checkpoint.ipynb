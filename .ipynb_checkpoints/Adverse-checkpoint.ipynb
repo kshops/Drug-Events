{
 "cells": [
  {
   "cell_type": "code",
   "execution_count": 49,
   "metadata": {
    "collapsed": false
   },
   "outputs": [],
   "source": [
    "import requests\n",
    "%matplotlib inline \n",
    "import matplotlib.pyplot as plt\n",
    "import matplotlib\n",
    "matplotlib.style.use('fivethirtyeight')\n",
    "import json\n",
    "import pandas as pd\n",
    "import urllib\n",
    "import numpy as np\n",
    "import re"
   ]
  },
  {
   "cell_type": "markdown",
   "metadata": {},
   "source": [
    "## Open the first year for exploratory analysis"
   ]
  },
  {
   "cell_type": "code",
   "execution_count": 1,
   "metadata": {
    "collapsed": false
   },
   "outputs": [
    {
     "ename": "ValueError",
     "evalue": "unsupported format character 'j' (0x6a) at index 44",
     "output_type": "error",
     "traceback": [
      "\u001b[0;31m---------------------------------------------------------------------------\u001b[0m",
      "\u001b[0;31mValueError\u001b[0m                                Traceback (most recent call last)",
      "\u001b[0;32m<ipython-input-1-aa3ffc5ccfb7>\u001b[0m in \u001b[0;36m<module>\u001b[0;34m()\u001b[0m\n\u001b[1;32m      1\u001b[0m \u001b[0myear\u001b[0m\u001b[0;34m=\u001b[0m\u001b[0;34m'2011'\u001b[0m\u001b[0;34m\u001b[0m\u001b[0m\n\u001b[0;32m----> 2\u001b[0;31m \u001b[0;32mwith\u001b[0m \u001b[0mopen\u001b[0m\u001b[0;34m(\u001b[0m\u001b[0;34m'/users/kevinshopsowitz/desktop/drug-event-%.json'\u001b[0m \u001b[0;34m%\u001b[0m\u001b[0myear\u001b[0m\u001b[0;34m)\u001b[0m \u001b[0;32mas\u001b[0m \u001b[0mjson_data\u001b[0m\u001b[0;34m:\u001b[0m\u001b[0;34m\u001b[0m\u001b[0m\n\u001b[0m\u001b[1;32m      3\u001b[0m     \u001b[0md\u001b[0m \u001b[0;34m=\u001b[0m \u001b[0mjson\u001b[0m\u001b[0;34m.\u001b[0m\u001b[0mload\u001b[0m\u001b[0;34m(\u001b[0m\u001b[0mjson_data\u001b[0m\u001b[0;34m)\u001b[0m\u001b[0;34m\u001b[0m\u001b[0m\n\u001b[1;32m      4\u001b[0m     \u001b[0mjson_data\u001b[0m\u001b[0;34m.\u001b[0m\u001b[0mclose\u001b[0m\u001b[0;34m(\u001b[0m\u001b[0;34m)\u001b[0m\u001b[0;34m\u001b[0m\u001b[0m\n",
      "\u001b[0;31mValueError\u001b[0m: unsupported format character 'j' (0x6a) at index 44"
     ]
    }
   ],
   "source": [
    "year='2011'\n",
    "with open('/users/kevinshopsowitz/desktop/drug-event-%.json' %year) as json_data:\n",
    "    d = json.load(json_data)\n",
    "    json_data.close()"
   ]
  },
  {
   "cell_type": "code",
   "execution_count": 152,
   "metadata": {
    "collapsed": false
   },
   "outputs": [],
   "source": [
    "\n"
   ]
  },
  {
   "cell_type": "code",
   "execution_count": 135,
   "metadata": {
    "collapsed": false
   },
   "outputs": [],
   "source": [
    "def event_processor(results):\n",
    "    patients=[]\n",
    "    for result in results:\n",
    "        if 'openfda' in result['patient']['drug'][0]:\n",
    "            patient=dict(result['patient'])\n",
    "            patient_data=dict(result)\n",
    "\n",
    "\n",
    "            if 'patientsex' in patient:\n",
    "                patient_data['patientsex']=patient['patientsex']\n",
    "\n",
    "            if 'patientonsetage' in patient:\n",
    "                patient_data['patientonsetage']=patient['patientonsetage']\n",
    "            if 'patientweight' in patient:\n",
    "                patient_data['patientweight']=patient['patientweight']\n",
    "            drugs=patient['drug']\n",
    "            for i in range(len(drugs)):\n",
    "                drug=drugs[i]\n",
    "                if drug['drugcharacterization']=='1' and i <3:\n",
    "\n",
    "                    key='drug'+str(i)\n",
    "                    patient_data[key]=drug['drugcharacterization']\n",
    "\n",
    "                    if 'actiondrug' in drug:\n",
    "                        patient_data[key+'actiondrug'] = drug['actiondrug']\n",
    "                    if 'drugindication' in drug:\n",
    "                        patient_data[key+'indication'] = drug['drugindication']\n",
    "                    if 'medicinalproduct' in drug:\n",
    "                        patient_data[key+'_name']=drug['medicinalproduct']\n",
    "                    if 'openfda' in drug:\n",
    "                        if 'pharm_class_epc' in drug['openfda']:\n",
    "                            patient_data[key+'_drugtype']=drug['openfda']['pharm_class_epc'][0]\n",
    "\n",
    "\n",
    "            patient_data['numdrugs']=len(patient['drug'])\n",
    "            patients.append(patient_data)\n",
    "\n",
    "    df=pd.DataFrame(patients)\n",
    "    df=df.fillna(0)\n",
    "    df['patientonsetage']=df['patientonsetage'].astype(float)\n",
    "    df['seriousnessdeath']=df['seriousnessdeath'].astype(int)\n",
    "    return df\n",
    "\n",
    "\n",
    "def sorter(term, index):\n",
    "    sort=[]\n",
    "    for i in index:\n",
    "        test=re.search(term, str(i))\n",
    "        if test:\n",
    "            sort.append(True)\n",
    "        else:\n",
    "            sort.append(False)\n",
    "    return sort\n",
    "\n"
   ]
  },
  {
   "cell_type": "code",
   "execution_count": 136,
   "metadata": {
    "collapsed": false
   },
   "outputs": [
    {
     "data": {
      "text/html": [
       "<div>\n",
       "<table border=\"1\" class=\"dataframe\">\n",
       "  <thead>\n",
       "    <tr style=\"text-align: right;\">\n",
       "      <th></th>\n",
       "      <th>authoritynumb</th>\n",
       "      <th>companynumb</th>\n",
       "      <th>drug0</th>\n",
       "      <th>drug0_drugtype</th>\n",
       "      <th>drug0_name</th>\n",
       "      <th>drug0actiondrug</th>\n",
       "      <th>drug0indication</th>\n",
       "      <th>drug1</th>\n",
       "      <th>drug1_drugtype</th>\n",
       "      <th>drug1_name</th>\n",
       "      <th>...</th>\n",
       "      <th>sender</th>\n",
       "      <th>serious</th>\n",
       "      <th>seriousnesscongenitalanomali</th>\n",
       "      <th>seriousnessdeath</th>\n",
       "      <th>seriousnessdisabling</th>\n",
       "      <th>seriousnesshospitalization</th>\n",
       "      <th>seriousnesslifethreatening</th>\n",
       "      <th>seriousnessother</th>\n",
       "      <th>transmissiondate</th>\n",
       "      <th>transmissiondateformat</th>\n",
       "    </tr>\n",
       "  </thead>\n",
       "  <tbody>\n",
       "    <tr>\n",
       "      <th>0</th>\n",
       "      <td>0</td>\n",
       "      <td>US-BAYER-2015-023126</td>\n",
       "      <td>1</td>\n",
       "      <td>0</td>\n",
       "      <td>BETASERON</td>\n",
       "      <td>0</td>\n",
       "      <td>0</td>\n",
       "      <td>0</td>\n",
       "      <td>0</td>\n",
       "      <td>0</td>\n",
       "      <td>...</td>\n",
       "      <td>{'senderorganization': 'FDA-Public Use', 'send...</td>\n",
       "      <td>1</td>\n",
       "      <td>0</td>\n",
       "      <td>0</td>\n",
       "      <td>0</td>\n",
       "      <td>0</td>\n",
       "      <td>0</td>\n",
       "      <td>1</td>\n",
       "      <td>20150721</td>\n",
       "      <td>102</td>\n",
       "    </tr>\n",
       "    <tr>\n",
       "      <th>1</th>\n",
       "      <td>0</td>\n",
       "      <td>US-LUNDBECK-DKLU1108116</td>\n",
       "      <td>0</td>\n",
       "      <td>0</td>\n",
       "      <td>0</td>\n",
       "      <td>0</td>\n",
       "      <td>0</td>\n",
       "      <td>0</td>\n",
       "      <td>0</td>\n",
       "      <td>0</td>\n",
       "      <td>...</td>\n",
       "      <td>{'senderorganization': 'FDA-Public Use', 'send...</td>\n",
       "      <td>2</td>\n",
       "      <td>0</td>\n",
       "      <td>0</td>\n",
       "      <td>0</td>\n",
       "      <td>0</td>\n",
       "      <td>0</td>\n",
       "      <td>0</td>\n",
       "      <td>20150721</td>\n",
       "      <td>102</td>\n",
       "    </tr>\n",
       "    <tr>\n",
       "      <th>2</th>\n",
       "      <td>0</td>\n",
       "      <td>FR-BRISTOL-MYERS SQUIBB COMPANY-21287958</td>\n",
       "      <td>1</td>\n",
       "      <td>0</td>\n",
       "      <td>BARACLUDE</td>\n",
       "      <td>4</td>\n",
       "      <td>HEPATITIS B</td>\n",
       "      <td>0</td>\n",
       "      <td>0</td>\n",
       "      <td>0</td>\n",
       "      <td>...</td>\n",
       "      <td>{'senderorganization': 'FDA-Public Use', 'send...</td>\n",
       "      <td>1</td>\n",
       "      <td>0</td>\n",
       "      <td>0</td>\n",
       "      <td>0</td>\n",
       "      <td>1</td>\n",
       "      <td>0</td>\n",
       "      <td>1</td>\n",
       "      <td>20150721</td>\n",
       "      <td>102</td>\n",
       "    </tr>\n",
       "    <tr>\n",
       "      <th>3</th>\n",
       "      <td>0</td>\n",
       "      <td>US-CELGENEUS-163-21880-14021619</td>\n",
       "      <td>1</td>\n",
       "      <td>Thalidomide Analog [EPC]</td>\n",
       "      <td>REVLIMID</td>\n",
       "      <td>5</td>\n",
       "      <td>PLASMA CELL MYELOMA</td>\n",
       "      <td>0</td>\n",
       "      <td>0</td>\n",
       "      <td>0</td>\n",
       "      <td>...</td>\n",
       "      <td>{'senderorganization': 'FDA-Public Use', 'send...</td>\n",
       "      <td>1</td>\n",
       "      <td>0</td>\n",
       "      <td>0</td>\n",
       "      <td>0</td>\n",
       "      <td>0</td>\n",
       "      <td>0</td>\n",
       "      <td>1</td>\n",
       "      <td>20150721</td>\n",
       "      <td>102</td>\n",
       "    </tr>\n",
       "    <tr>\n",
       "      <th>4</th>\n",
       "      <td>0</td>\n",
       "      <td>US-CELGENEUS-163-21880-14024747</td>\n",
       "      <td>1</td>\n",
       "      <td>Thalidomide Analog [EPC]</td>\n",
       "      <td>REVLIMID</td>\n",
       "      <td>4</td>\n",
       "      <td>PLASMA CELL MYELOMA</td>\n",
       "      <td>1</td>\n",
       "      <td>Thalidomide Analog [EPC]</td>\n",
       "      <td>REVLIMID</td>\n",
       "      <td>...</td>\n",
       "      <td>{'senderorganization': 'FDA-Public Use', 'send...</td>\n",
       "      <td>1</td>\n",
       "      <td>0</td>\n",
       "      <td>0</td>\n",
       "      <td>0</td>\n",
       "      <td>1</td>\n",
       "      <td>0</td>\n",
       "      <td>0</td>\n",
       "      <td>20150721</td>\n",
       "      <td>102</td>\n",
       "    </tr>\n",
       "  </tbody>\n",
       "</table>\n",
       "<p>5 rows × 46 columns</p>\n",
       "</div>"
      ],
      "text/plain": [
       "  authoritynumb                               companynumb drug0  \\\n",
       "0             0                      US-BAYER-2015-023126     1   \n",
       "1             0                   US-LUNDBECK-DKLU1108116     0   \n",
       "2             0  FR-BRISTOL-MYERS SQUIBB COMPANY-21287958     1   \n",
       "3             0           US-CELGENEUS-163-21880-14021619     1   \n",
       "4             0           US-CELGENEUS-163-21880-14024747     1   \n",
       "\n",
       "             drug0_drugtype drug0_name drug0actiondrug      drug0indication  \\\n",
       "0                         0  BETASERON               0                    0   \n",
       "1                         0          0               0                    0   \n",
       "2                         0  BARACLUDE               4          HEPATITIS B   \n",
       "3  Thalidomide Analog [EPC]   REVLIMID               5  PLASMA CELL MYELOMA   \n",
       "4  Thalidomide Analog [EPC]   REVLIMID               4  PLASMA CELL MYELOMA   \n",
       "\n",
       "  drug1            drug1_drugtype drug1_name           ...            \\\n",
       "0     0                         0          0           ...             \n",
       "1     0                         0          0           ...             \n",
       "2     0                         0          0           ...             \n",
       "3     0                         0          0           ...             \n",
       "4     1  Thalidomide Analog [EPC]   REVLIMID           ...             \n",
       "\n",
       "                                              sender serious  \\\n",
       "0  {'senderorganization': 'FDA-Public Use', 'send...       1   \n",
       "1  {'senderorganization': 'FDA-Public Use', 'send...       2   \n",
       "2  {'senderorganization': 'FDA-Public Use', 'send...       1   \n",
       "3  {'senderorganization': 'FDA-Public Use', 'send...       1   \n",
       "4  {'senderorganization': 'FDA-Public Use', 'send...       1   \n",
       "\n",
       "  seriousnesscongenitalanomali seriousnessdeath seriousnessdisabling  \\\n",
       "0                            0                0                    0   \n",
       "1                            0                0                    0   \n",
       "2                            0                0                    0   \n",
       "3                            0                0                    0   \n",
       "4                            0                0                    0   \n",
       "\n",
       "  seriousnesshospitalization seriousnesslifethreatening seriousnessother  \\\n",
       "0                          0                          0                1   \n",
       "1                          0                          0                0   \n",
       "2                          1                          0                1   \n",
       "3                          0                          0                1   \n",
       "4                          1                          0                0   \n",
       "\n",
       "  transmissiondate  transmissiondateformat  \n",
       "0         20150721                     102  \n",
       "1         20150721                     102  \n",
       "2         20150721                     102  \n",
       "3         20150721                     102  \n",
       "4         20150721                     102  \n",
       "\n",
       "[5 rows x 46 columns]"
      ]
     },
     "execution_count": 136,
     "metadata": {},
     "output_type": "execute_result"
    }
   ],
   "source": [
    "results=d['results']\n",
    "df=event_processor(results)\n",
    "df.head()\n",
    "\n",
    "\n",
    "\n"
   ]
  },
  {
   "cell_type": "code",
   "execution_count": 137,
   "metadata": {
    "collapsed": false
   },
   "outputs": [
    {
     "data": {
      "text/plain": [
       "(23006, 46)"
      ]
     },
     "execution_count": 137,
     "metadata": {},
     "output_type": "execute_result"
    }
   ],
   "source": [
    "\n",
    "df=df[(df['patientonsetage']>0) & (df['patientonsetage']<100)]\n",
    "df.shape"
   ]
  },
  {
   "cell_type": "code",
   "execution_count": 138,
   "metadata": {
    "collapsed": false
   },
   "outputs": [
    {
     "data": {
      "text/plain": [
       "0.090498130922368081"
      ]
     },
     "execution_count": 138,
     "metadata": {},
     "output_type": "execute_result"
    }
   ],
   "source": [
    "df['seriousnessdeath'].mean()"
   ]
  },
  {
   "cell_type": "code",
   "execution_count": 155,
   "metadata": {
    "collapsed": false
   },
   "outputs": [
    {
     "data": {
      "text/plain": [
       "50.656"
      ]
     },
     "execution_count": 155,
     "metadata": {},
     "output_type": "execute_result"
    },
    {
     "data": {
      "image/png": "[encoded data removed]",
      "text/plain": [
       "<matplotlib.figure.Figure at 0x19c5315f8>"
      ]
     },
     "metadata": {},
     "output_type": "display_data"
    }
   ],
   "source": [
    "sort=sorter('Opioid Agonist', df['drug0_drugtype'])\n",
    "df['patientonsetage'].plot.hist()\n",
    "\n",
    "df['patientonsetage'][sort].median()"
   ]
  },
  {
   "cell_type": "code",
   "execution_count": 201,
   "metadata": {
    "collapsed": false
   },
   "outputs": [
    {
     "data": {
      "text/plain": [
       "43.5"
      ]
     },
     "execution_count": 201,
     "metadata": {},
     "output_type": "execute_result"
    },
    {
     "data": {
      "image/png": "[encoded data removed]",
      "text/plain": [
       "<matplotlib.figure.Figure at 0x1a25b5550>"
      ]
     },
     "metadata": {},
     "output_type": "display_data"
    }
   ],
   "source": [
    "\n",
    "df_dead=df[df['seriousnessdeath']==1]\n",
    "sort=sorter('Opioid Agonist', df_dead['drug0_drugtype'])\n",
    "a=df_dead['patientonsetage'][sort]\n",
    "\n",
    "a.plot.hist(normed=True, alpha=0.7)\n",
    "b=df_dead['patientonsetage'][np.logical_not(sort)]\n",
    "\n",
    "b.plot.hist(stacked=True, alpha=.5, normed=True)\n",
    "df_dead['patientonsetage'][sort].median()\n",
    "\t\n"
   ]
  },
  {
   "cell_type": "code",
   "execution_count": 142,
   "metadata": {
    "collapsed": false
   },
   "outputs": [
    {
     "data": {
      "text/plain": [
       "2.0"
      ]
     },
     "execution_count": 142,
     "metadata": {},
     "output_type": "execute_result"
    }
   ],
   "source": [
    "df['numdrugs'][df['numdrugs']<20].median()"
   ]
  },
  {
   "cell_type": "code",
   "execution_count": 144,
   "metadata": {
    "collapsed": false
   },
   "outputs": [
    {
     "data": {
      "text/plain": [
       "2.0"
      ]
     },
     "execution_count": 144,
     "metadata": {},
     "output_type": "execute_result"
    }
   ],
   "source": [
    "df_dead['numdrugs'][df_dead['numdrugs']<20].median()"
   ]
  },
  {
   "cell_type": "code",
   "execution_count": 146,
   "metadata": {
    "collapsed": false
   },
   "outputs": [
    {
     "data": {
      "text/plain": [
       "Tumor Necrosis Factor Blocker [EPC]            6488\n",
       "0                                              6024\n",
       "Thalidomide Analog [EPC]                       1031\n",
       "Thiazolidinedione [EPC]                         591\n",
       "Kinase Inhibitor [EPC]                          550\n",
       "Progestin [EPC]                                 450\n",
       "Endothelin Receptor Antagonist [EPC]            264\n",
       "RANK Ligand Inhibitor [EPC]                     255\n",
       "Phosphate Binder [EPC]                          248\n",
       "Prostacycline Vasodilator [EPC]                 239\n",
       "Factor Xa Inhibitor [EPC]                       238\n",
       "Recombinant Human Interferon beta [EPC]         238\n",
       "Corticosteroid [EPC]                            237\n",
       "Calcium-sensing Receptor Agonist [EPC]          218\n",
       "Opioid Agonist [EPC]                            203\n",
       "Nonsteroidal Anti-inflammatory Drug [EPC]       195\n",
       "Insulin Analog [EPC]                            191\n",
       "Serotonin Reuptake Inhibitor [EPC]              187\n",
       "Anticholinergic [EPC]                           187\n",
       "Acetylcholine Release Inhibitor [EPC]           184\n",
       "Erythropoiesis-stimulating Agent [EPC]          164\n",
       "Integrin Receptor Antagonist [EPC]              161\n",
       "Atypical Antipsychotic [EPC]                    141\n",
       "beta2-Adrenergic Agonist [EPC]                  140\n",
       "Histamine-1 Receptor Antagonist [EPC]           137\n",
       "Anti-epileptic Agent [EPC]                      134\n",
       "Phosphodiesterase 5 Inhibitor [EPC]             112\n",
       "Androgen Receptor Inhibitor [EPC]               109\n",
       "Retinoid [EPC]                                  105\n",
       "Biguanide [EPC]                                 103\n",
       "                                               ... \n",
       "Potassium Binder [EPC]                            1\n",
       "Antihelminthic [EPC]                              1\n",
       "Interleukin-1 Receptor Antagonist [EPC]           1\n",
       "Nitrofuran Antibacterial [EPC]                    1\n",
       "Purine Antimetabolite [EPC]                       1\n",
       "Sulfonamide Antibacterial [EPC]                   1\n",
       "Influenza A M2 Protein Inhibitor [EPC]            1\n",
       "Cannabinoid [EPC]                                 1\n",
       "l-Triiodothyronine [EPC]                          1\n",
       "Oxazolidinone Antibacterial [EPC]                 1\n",
       "Methylxanthine [EPC]                              1\n",
       "Muscle Relaxant [EPC]                             1\n",
       "Psoralen [EPC]                                    1\n",
       "Recombinant Human Deoxyribonuclease 1 [EPC]       1\n",
       "Lipopeptide Antibacterial [EPC]                   1\n",
       "Ergotamine Derivative [EPC]                       1\n",
       "Benzothiazole [EPC]                               1\n",
       "Methylated Sulfonamide Antibacterial [EPC]        1\n",
       "Radioactive Therapeutic Agent [EPC]               1\n",
       "Antiemetic [EPC]                                  1\n",
       "Barbiturate [EPC]                                 1\n",
       "Phosphodiesterase 4 Inhibitor [EPC]               1\n",
       "Adrenal Steroid Synthesis Inhibitor [EPC]         1\n",
       "Human Immunoglobulin G [EPC]                      1\n",
       "Reducing and Complexing Thiol [EPC]               1\n",
       "Renal Dehydropeptidase Inhibitor [EPC]            1\n",
       "Human Platelet-derived Growth Factor [EPC]        1\n",
       "Tetracycline-class Antibacterial [EPC]            1\n",
       "Cholinergic Muscarinic Agonist [EPC]              1\n",
       "Bismuth [EPC]                                     1\n",
       "Name: drug0_drugtype, dtype: int64"
      ]
     },
     "execution_count": 146,
     "metadata": {},
     "output_type": "execute_result"
    }
   ],
   "source": [
    "df['drug0_drugtype'].value_counts()"
   ]
  },
  {
   "cell_type": "code",
   "execution_count": 151,
   "metadata": {
    "collapsed": false
   },
   "outputs": [
    {
     "data": {
      "text/plain": [
       "0                                                                        515\n",
       "Kinase Inhibitor [EPC]                                                   176\n",
       "RANK Ligand Inhibitor [EPC]                                              123\n",
       "Opioid Agonist [EPC]                                                     104\n",
       "Thalidomide Analog [EPC]                                                  97\n",
       "Thiazolidinedione [EPC]                                                   70\n",
       "Erythropoiesis-stimulating Agent [EPC]                                    69\n",
       "Serotonin Reuptake Inhibitor [EPC]                                        64\n",
       "Histamine-1 Receptor Antagonist [EPC]                                     60\n",
       "Endothelin Receptor Antagonist [EPC]                                      58\n",
       "Tumor Necrosis Factor Blocker [EPC]                                       53\n",
       "Factor Xa Inhibitor [EPC]                                                 40\n",
       "Androgen Receptor Inhibitor [EPC]                                         33\n",
       "Biguanide [EPC]                                                           27\n",
       "Vascular Endothelial Growth Factor-directed Antibody [EPC]                24\n",
       "Phosphate Binder [EPC]                                                    23\n",
       "Recombinant Human Interferon beta [EPC]                                   18\n",
       "Prostacycline Vasodilator [EPC]                                           17\n",
       "Atypical Antipsychotic [EPC]                                              16\n",
       "beta-Adrenergic Blocker [EPC]                                             15\n",
       "Dihydropyridine Calcium Channel Blocker [EPC]                             14\n",
       "Microtubule Inhibitor [EPC]                                               14\n",
       "Phosphodiesterase 5 Inhibitor [EPC]                                       14\n",
       "gamma-Aminobutyric Acid-ergic Agonist [EPC]                               14\n",
       "Prostacycline [EPC]                                                       13\n",
       "Nucleoside Metabolic Inhibitor [EPC]                                      12\n",
       "Sigma-1 Agonist [EPC]                                                     12\n",
       "Nonsteroidal Anti-inflammatory Drug [EPC]                                 12\n",
       "Aminoketone [EPC]                                                         11\n",
       "Insulin Analog [EPC]                                                      11\n",
       "                                                                        ... \n",
       "Immunoglobulin G [EPC]                                                     1\n",
       "Sulfonylurea [EPC]                                                         1\n",
       "Aminosalicylate [EPC]                                                      1\n",
       "Chloride Channel Activator [EPC]                                           1\n",
       "Penem Antibacterial [EPC]                                                  1\n",
       "Reducing and Complexing Thiol [EPC]                                        1\n",
       "N-methyl-D-aspartate Receptor Antagonist [EPC]                             1\n",
       "Loop Diuretic [EPC]                                                        1\n",
       "Copper-containing Intrauterine Device [EPC]                                1\n",
       "Angiotensin 2 Receptor Blocker [EPC]                                       1\n",
       "Platinum-based Drug [EPC]                                                  1\n",
       "Potassium Binder [EPC]                                                     1\n",
       "Barbiturate [EPC]                                                          1\n",
       "Benzothiazole [EPC]                                                        1\n",
       "Cystic Fibrosis Transmembrane Conductance Regulator Potentiator [EPC]      1\n",
       "Hydrolytic Lysosomal Neutral Glycosphingolipid-specific Enzyme [EPC]       1\n",
       "Carbamoyl Phosphate Synthetase 1 Activator [EPC]                           1\n",
       "Prostaglandin Analog [EPC]                                                 1\n",
       "Methylxanthine [EPC]                                                       1\n",
       "Human Blood Coagulation Factor [EPC]                                       1\n",
       "Polymyxin-class Antibacterial [EPC]                                        1\n",
       "Glucosylceramide Synthase Inhibitor [EPC]                                  1\n",
       "Antimycobacterial [EPC]                                                    1\n",
       "Influenza A M2 Protein Inhibitor [EPC]                                     1\n",
       "Thiazide Diuretic [EPC]                                                    1\n",
       "Anti-anginal [EPC]                                                         1\n",
       "Insulin [EPC]                                                              1\n",
       "Radiographic Contrast Agent [EPC]                                          1\n",
       "Cholinergic Muscarinic Antagonist [EPC]                                    1\n",
       "Aromatase Inhibitor [EPC]                                                  1\n",
       "Name: drug0_drugtype, dtype: int64"
      ]
     },
     "execution_count": 151,
     "metadata": {},
     "output_type": "execute_result"
    }
   ],
   "source": [
    "df_dead['drug0_drugtype'].value_counts()"
   ]
  },
  {
   "cell_type": "code",
   "execution_count": 112,
   "metadata": {
    "collapsed": false
   },
   "outputs": [
    {
     "ename": "TypeError",
     "evalue": "unsupported operand type(s) for +: 'dict' and 'dict'",
     "output_type": "error",
     "traceback": [
      "\u001b[0;31m---------------------------------------------------------------------------\u001b[0m",
      "\u001b[0;31mTypeError\u001b[0m                                 Traceback (most recent call last)",
      "\u001b[0;32m<ipython-input-112-27f6e83e3e36>\u001b[0m in \u001b[0;36m<module>\u001b[0;34m()\u001b[0m\n\u001b[1;32m      1\u001b[0m \u001b[0ma\u001b[0m\u001b[0;34m=\u001b[0m\u001b[0;34m{\u001b[0m\u001b[0;36m1\u001b[0m\u001b[0;34m:\u001b[0m\u001b[0;36m1\u001b[0m\u001b[0;34m,\u001b[0m\u001b[0;36m2\u001b[0m\u001b[0;34m:\u001b[0m\u001b[0;36m3\u001b[0m\u001b[0;34m}\u001b[0m\u001b[0;34m\u001b[0m\u001b[0m\n\u001b[1;32m      2\u001b[0m \u001b[0mb\u001b[0m\u001b[0;34m=\u001b[0m\u001b[0;34m{\u001b[0m\u001b[0;36m4\u001b[0m\u001b[0;34m:\u001b[0m\u001b[0;36m5\u001b[0m\u001b[0;34m,\u001b[0m\u001b[0;36m6\u001b[0m\u001b[0;34m:\u001b[0m\u001b[0;36m7\u001b[0m\u001b[0;34m}\u001b[0m\u001b[0;34m\u001b[0m\u001b[0m\n\u001b[0;32m----> 3\u001b[0;31m \u001b[0ma\u001b[0m\u001b[0;34m+\u001b[0m\u001b[0mb\u001b[0m\u001b[0;34m\u001b[0m\u001b[0m\n\u001b[0m",
      "\u001b[0;31mTypeError\u001b[0m: unsupported operand type(s) for +: 'dict' and 'dict'"
     ]
    }
   ],
   "source": [
    "a={1:1,2:3}\n",
    "b={4:5,6:7}\n",
    "\n"
   ]
  },
  {
   "cell_type": "code",
   "execution_count": null,
   "metadata": {
    "collapsed": true
   },
   "outputs": [],
   "source": []
  }
 ],
 "metadata": {
  "kernelspec": {
   "display_name": "Python 3",
   "language": "python",
   "name": "python3"
  },
  "language_info": {
   "codemirror_mode": {
    "name": "ipython",
    "version": 3
   },
   "file_extension": ".py",
   "mimetype": "text/x-python",
   "name": "python",
   "nbconvert_exporter": "python",
   "pygments_lexer": "ipython3",
   "version": "3.4.4"
  }
 },
 "nbformat": 4,
 "nbformat_minor": 0
}
