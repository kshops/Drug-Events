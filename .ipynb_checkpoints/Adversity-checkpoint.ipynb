{
 "cells": [
  {
   "cell_type": "code",
   "execution_count": 1,
   "metadata": {
    "collapsed": false
   },
   "outputs": [],
   "source": [
    "import requests\n",
    "%matplotlib inline \n",
    "import matplotlib.pyplot as plt\n",
    "import matplotlib\n",
    "matplotlib.style.use('fivethirtyeight')\n",
    "import json\n",
    "import pandas as pd\n",
    "import numpy as np\n",
    "import re\n",
    "import bokeh"
   ]
  },
  {
   "cell_type": "markdown",
   "metadata": {},
   "source": [
    "## Open the first year for exploratory analysis"
   ]
  },
  {
   "cell_type": "code",
   "execution_count": 14,
   "metadata": {
    "collapsed": false
   },
   "outputs": [],
   "source": [
    "year=2004\n",
    "with open('/users/kevinshopsowitz/desktop/drug events/drug-event-%.i.json' % year) as json_data:\n",
    "    d = json.load(json_data)\n",
    "    json_data.close()"
   ]
  },
  {
   "cell_type": "code",
   "execution_count": 15,
   "metadata": {
    "collapsed": false
   },
   "outputs": [
    {
     "data": {
      "text/plain": [
       "51826"
      ]
     },
     "execution_count": 15,
     "metadata": {},
     "output_type": "execute_result"
    }
   ],
   "source": [
    "results=d['results']\n",
    "len(results)\n"
   ]
  },
  {
   "cell_type": "markdown",
   "metadata": {},
   "source": [
    "## Function for processing the data"
   ]
  },
  {
   "cell_type": "code",
   "execution_count": 4,
   "metadata": {
    "collapsed": false
   },
   "outputs": [],
   "source": [
    "def event_processor(results, year):\n",
    "    patients=[]\n",
    "    for result in results:\n",
    "        if 'openfda' in result['patient']['drug'][0]:\n",
    "            patient=dict(result['patient'])\n",
    "            patient_data=dict(result)\n",
    "            patient_data['Year']=year\n",
    "\n",
    "            if 'patientsex' in patient:\n",
    "                patient_data['patientsex']=patient['patientsex']\n",
    "\n",
    "            if 'patientonsetage' in patient:\n",
    "                patient_data['patientonsetage']=patient['patientonsetage']\n",
    "            if 'patientweight' in patient:\n",
    "                patient_data['patientweight']=patient['patientweight']\n",
    "            drugs=patient['drug']\n",
    "            for i in range(len(drugs)):\n",
    "                drug=drugs[i]\n",
    "                if 'drugcharacterization' in drug and i<3:\n",
    "                    if drug['drugcharacterization']=='1' and i <3:\n",
    "\n",
    "                        key='drug'+str(i)\n",
    "                        patient_data[key]=drug['drugcharacterization']\n",
    "\n",
    "                        if 'actiondrug' in drug:\n",
    "                            patient_data[key+'actiondrug'] = drug['actiondrug']\n",
    "                        if 'drugindication' in drug:\n",
    "                            patient_data[key+'indication'] = drug['drugindication']\n",
    "                        if 'medicinalproduct' in drug:\n",
    "                            patient_data[key+'_name']=drug['medicinalproduct']\n",
    "                        if 'openfda' in drug:\n",
    "                            if 'pharm_class_epc' in drug['openfda']:\n",
    "                                patient_data[key+'_drugtype']=drug['openfda']['pharm_class_epc'][0]\n",
    "\n",
    "\n",
    "            patient_data['numdrugs']=len(patient['drug'])\n",
    "            patients.append(patient_data)\n",
    "\n",
    "    df=pd.DataFrame(patients)\n",
    "    df=df.fillna(0)\n",
    "    df['patientonsetage']=df['patientonsetage'].astype(float)\n",
    "    df['seriousnessdeath']=df['seriousnessdeath'].astype(int)\n",
    "    return df\n",
    "\n",
    "\n",
    "def sorter(term, index):\n",
    "    sort=[]\n",
    "    for i in index:\n",
    "        test=re.search(term, str(i))\n",
    "        if test:\n",
    "            sort.append(True)\n",
    "        else:\n",
    "            sort.append(False)\n",
    "    return sort\n",
    "\n"
   ]
  },
  {
   "cell_type": "code",
   "execution_count": 16,
   "metadata": {
    "collapsed": false
   },
   "outputs": [
    {
     "data": {
      "text/html": [
       "<div>\n",
       "<table border=\"1\" class=\"dataframe\">\n",
       "  <thead>\n",
       "    <tr style=\"text-align: right;\">\n",
       "      <th></th>\n",
       "      <th>Year</th>\n",
       "      <th>companynumb</th>\n",
       "      <th>drug0</th>\n",
       "      <th>drug0_drugtype</th>\n",
       "      <th>drug0_name</th>\n",
       "      <th>drug0indication</th>\n",
       "      <th>drug1</th>\n",
       "      <th>drug1_drugtype</th>\n",
       "      <th>drug1_name</th>\n",
       "      <th>drug1indication</th>\n",
       "      <th>...</th>\n",
       "      <th>sender</th>\n",
       "      <th>serious</th>\n",
       "      <th>seriousnesscongenitalanomali</th>\n",
       "      <th>seriousnessdeath</th>\n",
       "      <th>seriousnessdisabling</th>\n",
       "      <th>seriousnesshospitalization</th>\n",
       "      <th>seriousnesslifethreatening</th>\n",
       "      <th>seriousnessother</th>\n",
       "      <th>transmissiondate</th>\n",
       "      <th>transmissiondateformat</th>\n",
       "    </tr>\n",
       "  </thead>\n",
       "  <tbody>\n",
       "    <tr>\n",
       "      <th>0</th>\n",
       "      <td>2004</td>\n",
       "      <td>PHHO2004PH10811</td>\n",
       "      <td>1</td>\n",
       "      <td>Angiotensin 2 Receptor Blocker [EPC]</td>\n",
       "      <td>DIOVAN</td>\n",
       "      <td>0</td>\n",
       "      <td>1</td>\n",
       "      <td>Thiazide Diuretic [EPC]</td>\n",
       "      <td>DIOVAN HCT</td>\n",
       "      <td>0</td>\n",
       "      <td>...</td>\n",
       "      <td>{'senderorganization': 'FDA-Public Use'}</td>\n",
       "      <td>1</td>\n",
       "      <td>0</td>\n",
       "      <td>1</td>\n",
       "      <td>0</td>\n",
       "      <td>0</td>\n",
       "      <td>0</td>\n",
       "      <td>0</td>\n",
       "      <td>20111010</td>\n",
       "      <td>102</td>\n",
       "    </tr>\n",
       "    <tr>\n",
       "      <th>1</th>\n",
       "      <td>2004</td>\n",
       "      <td>PHEH2004US00704</td>\n",
       "      <td>1</td>\n",
       "      <td>Atypical Antipsychotic [EPC]</td>\n",
       "      <td>CLOZAPINE</td>\n",
       "      <td>SCHIZOPHRENIA</td>\n",
       "      <td>0</td>\n",
       "      <td>0</td>\n",
       "      <td>0</td>\n",
       "      <td>0</td>\n",
       "      <td>...</td>\n",
       "      <td>{'senderorganization': 'FDA-Public Use'}</td>\n",
       "      <td>1</td>\n",
       "      <td>0</td>\n",
       "      <td>1</td>\n",
       "      <td>0</td>\n",
       "      <td>0</td>\n",
       "      <td>0</td>\n",
       "      <td>1</td>\n",
       "      <td>20111010</td>\n",
       "      <td>102</td>\n",
       "    </tr>\n",
       "    <tr>\n",
       "      <th>2</th>\n",
       "      <td>2004</td>\n",
       "      <td>PHHO2004IN04863</td>\n",
       "      <td>1</td>\n",
       "      <td>Kinase Inhibitor [EPC]</td>\n",
       "      <td>GLEEVEC</td>\n",
       "      <td>0</td>\n",
       "      <td>0</td>\n",
       "      <td>0</td>\n",
       "      <td>0</td>\n",
       "      <td>0</td>\n",
       "      <td>...</td>\n",
       "      <td>{'senderorganization': 'FDA-Public Use'}</td>\n",
       "      <td>1</td>\n",
       "      <td>0</td>\n",
       "      <td>1</td>\n",
       "      <td>0</td>\n",
       "      <td>0</td>\n",
       "      <td>0</td>\n",
       "      <td>0</td>\n",
       "      <td>20111010</td>\n",
       "      <td>102</td>\n",
       "    </tr>\n",
       "    <tr>\n",
       "      <th>3</th>\n",
       "      <td>2004</td>\n",
       "      <td>PHFR2004GB01404</td>\n",
       "      <td>1</td>\n",
       "      <td>Atypical Antipsychotic [EPC]</td>\n",
       "      <td>CLOZAPINE</td>\n",
       "      <td>SCHIZOPHRENIA</td>\n",
       "      <td>0</td>\n",
       "      <td>0</td>\n",
       "      <td>0</td>\n",
       "      <td>0</td>\n",
       "      <td>...</td>\n",
       "      <td>{'senderorganization': 'FDA-Public Use'}</td>\n",
       "      <td>1</td>\n",
       "      <td>0</td>\n",
       "      <td>0</td>\n",
       "      <td>0</td>\n",
       "      <td>0</td>\n",
       "      <td>0</td>\n",
       "      <td>1</td>\n",
       "      <td>20111010</td>\n",
       "      <td>102</td>\n",
       "    </tr>\n",
       "    <tr>\n",
       "      <th>4</th>\n",
       "      <td>2004</td>\n",
       "      <td>PHFR2004GB00469</td>\n",
       "      <td>1</td>\n",
       "      <td>Atypical Antipsychotic [EPC]</td>\n",
       "      <td>CLOZAPINE</td>\n",
       "      <td>SCHIZOPHRENIA</td>\n",
       "      <td>0</td>\n",
       "      <td>0</td>\n",
       "      <td>0</td>\n",
       "      <td>0</td>\n",
       "      <td>...</td>\n",
       "      <td>{'senderorganization': 'FDA-Public Use'}</td>\n",
       "      <td>1</td>\n",
       "      <td>0</td>\n",
       "      <td>0</td>\n",
       "      <td>0</td>\n",
       "      <td>0</td>\n",
       "      <td>0</td>\n",
       "      <td>1</td>\n",
       "      <td>20111010</td>\n",
       "      <td>102</td>\n",
       "    </tr>\n",
       "  </tbody>\n",
       "</table>\n",
       "<p>5 rows × 37 columns</p>\n",
       "</div>"
      ],
      "text/plain": [
       "   Year      companynumb drug0                        drug0_drugtype  \\\n",
       "0  2004  PHHO2004PH10811     1  Angiotensin 2 Receptor Blocker [EPC]   \n",
       "1  2004  PHEH2004US00704     1          Atypical Antipsychotic [EPC]   \n",
       "2  2004  PHHO2004IN04863     1                Kinase Inhibitor [EPC]   \n",
       "3  2004  PHFR2004GB01404     1          Atypical Antipsychotic [EPC]   \n",
       "4  2004  PHFR2004GB00469     1          Atypical Antipsychotic [EPC]   \n",
       "\n",
       "  drug0_name drug0indication drug1           drug1_drugtype  drug1_name  \\\n",
       "0     DIOVAN               0     1  Thiazide Diuretic [EPC]  DIOVAN HCT   \n",
       "1  CLOZAPINE   SCHIZOPHRENIA     0                        0           0   \n",
       "2    GLEEVEC               0     0                        0           0   \n",
       "3  CLOZAPINE   SCHIZOPHRENIA     0                        0           0   \n",
       "4  CLOZAPINE   SCHIZOPHRENIA     0                        0           0   \n",
       "\n",
       "  drug1indication          ...            \\\n",
       "0               0          ...             \n",
       "1               0          ...             \n",
       "2               0          ...             \n",
       "3               0          ...             \n",
       "4               0          ...             \n",
       "\n",
       "                                     sender serious  \\\n",
       "0  {'senderorganization': 'FDA-Public Use'}       1   \n",
       "1  {'senderorganization': 'FDA-Public Use'}       1   \n",
       "2  {'senderorganization': 'FDA-Public Use'}       1   \n",
       "3  {'senderorganization': 'FDA-Public Use'}       1   \n",
       "4  {'senderorganization': 'FDA-Public Use'}       1   \n",
       "\n",
       "  seriousnesscongenitalanomali seriousnessdeath seriousnessdisabling  \\\n",
       "0                            0                1                    0   \n",
       "1                            0                1                    0   \n",
       "2                            0                1                    0   \n",
       "3                            0                0                    0   \n",
       "4                            0                0                    0   \n",
       "\n",
       "   seriousnesshospitalization seriousnesslifethreatening  seriousnessother  \\\n",
       "0                           0                          0                 0   \n",
       "1                           0                          0                 1   \n",
       "2                           0                          0                 0   \n",
       "3                           0                          0                 1   \n",
       "4                           0                          0                 1   \n",
       "\n",
       "  transmissiondate transmissiondateformat  \n",
       "0         20111010                    102  \n",
       "1         20111010                    102  \n",
       "2         20111010                    102  \n",
       "3         20111010                    102  \n",
       "4         20111010                    102  \n",
       "\n",
       "[5 rows x 37 columns]"
      ]
     },
     "execution_count": 16,
     "metadata": {},
     "output_type": "execute_result"
    }
   ],
   "source": [
    "df=event_processor(results,year)\n",
    "df.head()"
   ]
  },
  {
   "cell_type": "code",
   "execution_count": 17,
   "metadata": {
    "collapsed": false
   },
   "outputs": [
    {
     "data": {
      "text/plain": [
       "0                                                       4105\n",
       "Estrogen [EPC]                                          3059\n",
       "Tumor Necrosis Factor Blocker [EPC]                     2722\n",
       "Serotonin Reuptake Inhibitor [EPC]                      2248\n",
       "Atypical Antipsychotic [EPC]                            1701\n",
       "Opioid Agonist [EPC]                                    1700\n",
       "Parathyroid Hormone Analog [EPC]                        1501\n",
       "Norepinephrine Reuptake Inhibitor [EPC]                 1364\n",
       "Anti-epileptic Agent [EPC]                              1322\n",
       "Phosphate Binder [EPC]                                  1132\n",
       "Aminoketone [EPC]                                       1050\n",
       "Nonsteroidal Anti-inflammatory Drug [EPC]                786\n",
       "Phosphodiesterase 5 Inhibitor [EPC]                      746\n",
       "beta2-Adrenergic Agonist [EPC]                           561\n",
       "Recombinant Human Interferon beta [EPC]                  553\n",
       "N-methyl-D-aspartate Receptor Antagonist [EPC]           526\n",
       "Kinase Inhibitor [EPC]                                   514\n",
       "Dietary Cholesterol Absorption Inhibitor [EPC]           455\n",
       "Thiazolidinedione [EPC]                                  437\n",
       "Angiotensin 2 Receptor Blocker [EPC]                     394\n",
       "Serotonin-1b and Serotonin-1d Receptor Agonist [EPC]     391\n",
       "Vitamin K Antagonist [EPC]                               387\n",
       "Quinolone Antimicrobial [EPC]                            368\n",
       "Calcineurin Inhibitor Immunosuppressant [EPC]            346\n",
       "Corticosteroid [EPC]                                     333\n",
       "Platinum-based Drug [EPC]                                327\n",
       "Nucleoside Metabolic Inhibitor [EPC]                     310\n",
       "Folate Analog Metabolic Inhibitor [EPC]                  294\n",
       "HMG-CoA Reductase Inhibitor [EPC]                        292\n",
       "Insulin Analog [EPC]                                     281\n",
       "                                                        ... \n",
       "Vitamin K [EPC]                                            2\n",
       "Sulfone [EPC]                                              2\n",
       "Osmotic Laxative [EPC]                                     2\n",
       "Skeletal Muscle Relaxant [EPC]                             2\n",
       "Monobactam Antibacterial [EPC]                             2\n",
       "Human Immunoglobulin G [EPC]                               1\n",
       "Antidote [EPC]                                             1\n",
       "Surfactant [EPC]                                           1\n",
       "Potassium Binder [EPC]                                     1\n",
       "Partial Opioid Agonist/Antagonist [EPC]                    1\n",
       "Bismuth [EPC]                                              1\n",
       "Carnitine Analog [EPC]                                     1\n",
       "Cannabinoid [EPC]                                          1\n",
       "Non-Standardized Chemical Allergen [EPC]                   1\n",
       "Oxytocic [EPC]                                             1\n",
       "Ergotamine Derivative [EPC]                                1\n",
       "Histamine-1 Receptor Inhibitor [EPC]                       1\n",
       "Opioid Agonist/Antagonist [EPC]                            1\n",
       "Metal Chelator [EPC]                                       1\n",
       "Bile Acid [EPC]                                            1\n",
       "Recombinant Human Deoxyribonuclease 1 [EPC]                1\n",
       "Hydroxyphenyl-Pyruvate Dioxygenase Inhibitor [EPC]         1\n",
       "Thyroid Stimulating Hormone [EPC]                          1\n",
       "Dihydrofolate Reductase Inhibitor Antimalarial [EPC]       1\n",
       "Radioactive Diagnostic Agent [EPC]                         1\n",
       "Antimetabolite Immunosuppressant [EPC]                     1\n",
       "alpha-Glucosidase Inhibitor [EPC]                          1\n",
       "Sulfonamide Antibacterial [EPC]                            1\n",
       "Non-narcotic Antitussive [EPC]                             1\n",
       "Sulfonamide Antimicrobial [EPC]                            1\n",
       "Name: drug0_drugtype, dtype: int64"
      ]
     },
     "execution_count": 17,
     "metadata": {},
     "output_type": "execute_result"
    }
   ],
   "source": [
    "features=['drug0_drugtype', 'drug0_name', 'drug0indication','serious','seriousnessdeath','patientonsetage','patientsex', 'Year']\n",
    "df=df[features]\n",
    "df['drug0_drugtype'].value_counts()\n"
   ]
  },
  {
   "cell_type": "code",
   "execution_count": 18,
   "metadata": {
    "collapsed": false
   },
   "outputs": [
    {
     "data": {
      "text/plain": [
       "Tumor Necrosis Factor Blocker [EPC]          2722\n",
       "Serotonin Reuptake Inhibitor [EPC]           2248\n",
       "Atypical Antipsychotic [EPC]                 1701\n",
       "Opioid Agonist [EPC]                         1700\n",
       "Nonsteroidal Anti-inflammatory Drug [EPC]     786\n",
       "Benzodiazepine [EPC]                          208\n",
       "Name: drug0_drugtype, dtype: int64"
      ]
     },
     "execution_count": 18,
     "metadata": {},
     "output_type": "execute_result"
    }
   ],
   "source": [
    "drug_classes='Tumor Necrosis|^Opioid Agonist |Atypical|Serotonin Reuptake|Nonsteroidal|Benzodiazepine \\['\n",
    "sort=sorter(drug_classes, df['drug0_drugtype'])\n",
    "df=df[sort]\n",
    "df['drug0_drugtype'].value_counts()"
   ]
  },
  {
   "cell_type": "code",
   "execution_count": 19,
   "metadata": {
    "collapsed": false
   },
   "outputs": [
    {
     "data": {
      "text/plain": [
       "(9365, 8)"
      ]
     },
     "execution_count": 19,
     "metadata": {},
     "output_type": "execute_result"
    }
   ],
   "source": [
    "#df=df[(df['patientonsetage']>0) & (df['patientonsetage']<100)]\n",
    "df.shape"
   ]
  },
  {
   "cell_type": "code",
   "execution_count": 20,
   "metadata": {
    "collapsed": false
   },
   "outputs": [
    {
     "data": {
      "text/plain": [
       "0.15088093966898025"
      ]
     },
     "execution_count": 20,
     "metadata": {},
     "output_type": "execute_result"
    }
   ],
   "source": [
    "df['seriousnessdeath'].mean()"
   ]
  },
  {
   "cell_type": "code",
   "execution_count": 10,
   "metadata": {
    "collapsed": false,
    "scrolled": true
   },
   "outputs": [
    {
     "data": {
      "text/plain": [
       "32.0"
      ]
     },
     "execution_count": 10,
     "metadata": {},
     "output_type": "execute_result"
    },
    {
     "data": {
      "image/png": "[encoded data removed]",
      "text/plain": [
       "<matplotlib.figure.Figure at 0x1494312b0>"
      ]
     },
     "metadata": {},
     "output_type": "display_data"
    }
   ],
   "source": [
    "\n",
    "df_dead=df[(df['seriousnessdeath']==1) & ( df['patientsex']=='1')]\n",
    "sort=sorter('Opioid Agonist', df_dead['drug0_drugtype'])\n",
    "\n",
    "a=df_dead['patientonsetage'][sort]\n",
    "a.plot.hist(normed=True, alpha=0.7)\n",
    "b=df_dead['patientonsetage'][np.logical_not(sort)]\n",
    "\n",
    "b.plot.hist(stacked=True, alpha=.5, normed=True)\n",
    "df_dead['patientonsetage'][sort].median()\n",
    "\t\n"
   ]
  },
  {
   "cell_type": "markdown",
   "metadata": {
    "collapsed": false
   },
   "source": [
    "## Load in other years, process, and combine."
   ]
  },
  {
   "cell_type": "code",
   "execution_count": 21,
   "metadata": {
    "collapsed": false
   },
   "outputs": [
    {
     "name": "stdout",
     "output_type": "stream",
     "text": [
      "(9267, 8)\n",
      "(7387, 8)\n",
      "(13538, 8)\n",
      "(14405, 8)\n",
      "(15272, 8)\n",
      "(16701, 8)\n",
      "(12031, 8)\n",
      "(9324, 8)\n",
      "(7998, 8)\n",
      "(12095, 8)\n"
     ]
    }
   ],
   "source": [
    "years=[2005,2006,2007,2008,2009,2010,2011,2012,2013,2014]\n",
    "for year in years:\n",
    "    with open('/users/kevinshopsowitz/desktop/drug events/drug-event-%.i.json' % year) as json_data:\n",
    "        d = json.load(json_data)\n",
    "        json_data.close()\n",
    "    results=d['results']\n",
    "    tmp=event_processor(results, year)\n",
    "    features=['drug0_drugtype', 'drug0_name', 'drug0indication','serious','seriousnessdeath','patientonsetage','patientsex', 'Year']\n",
    "    tmp=tmp[features]\n",
    "    sort=sorter(drug_classes, tmp['drug0_drugtype'])\n",
    "    tmp=tmp[sort]\n",
    "    #tmp=tmp[(tmp['patientonsetage']>0) & (tmp['patientonsetage']<100)]\n",
    "    print(tmp.shape)\n",
    "    df=pd.concat([df,tmp])"
   ]
  },
  {
   "cell_type": "code",
   "execution_count": 22,
   "metadata": {
    "collapsed": false
   },
   "outputs": [],
   "source": [
    "df['drug0_drugtype']=df['drug0_drugtype'].apply(lambda x: re.search('(.*) \\[',x).group(1))\n",
    "\n",
    "df.to_csv('processed_drug_events_no_age_filt.csv')"
   ]
  },
  {
   "cell_type": "code",
   "execution_count": 23,
   "metadata": {
    "collapsed": false
   },
   "outputs": [
    {
     "data": {
      "text/plain": [
       "Tumor Necrosis Factor Blocker          64284\n",
       "Atypical Antipsychotic                 22080\n",
       "Nonsteroidal Anti-inflammatory Drug    13301\n",
       "Serotonin Reuptake Inhibitor           11292\n",
       "Opioid Agonist                         11006\n",
       "Benzodiazepine                          5420\n",
       "Name: drug0_drugtype, dtype: int64"
      ]
     },
     "execution_count": 23,
     "metadata": {},
     "output_type": "execute_result"
    }
   ],
   "source": [
    "df['drug0_drugtype'].value_counts()"
   ]
  },
  {
   "cell_type": "code",
   "execution_count": 24,
   "metadata": {
    "collapsed": false
   },
   "outputs": [
    {
     "data": {
      "text/plain": [
       "Opioid Agonist                         3603\n",
       "Atypical Antipsychotic                 2980\n",
       "Benzodiazepine                         2947\n",
       "Tumor Necrosis Factor Blocker          2118\n",
       "Nonsteroidal Anti-inflammatory Drug    1504\n",
       "Serotonin Reuptake Inhibitor           1355\n",
       "Name: drug0_drugtype, dtype: int64"
      ]
     },
     "execution_count": 24,
     "metadata": {},
     "output_type": "execute_result"
    }
   ],
   "source": [
    "df['drug0_drugtype'][df['seriousnessdeath']==1].value_counts()"
   ]
  },
  {
   "cell_type": "code",
   "execution_count": 25,
   "metadata": {
    "collapsed": false
   },
   "outputs": [
    {
     "data": {
      "text/plain": [
       "Tumor Necrosis Factor Blocker          62166\n",
       "Atypical Antipsychotic                 19100\n",
       "Nonsteroidal Anti-inflammatory Drug    11797\n",
       "Serotonin Reuptake Inhibitor            9937\n",
       "Opioid Agonist                          7403\n",
       "Benzodiazepine                          2473\n",
       "Name: drug0_drugtype, dtype: int64"
      ]
     },
     "execution_count": 25,
     "metadata": {},
     "output_type": "execute_result"
    }
   ],
   "source": [
    "df['drug0_drugtype'][df['seriousnessdeath']==0].value_counts()"
   ]
  },
  {
   "cell_type": "code",
   "execution_count": null,
   "metadata": {
    "collapsed": true
   },
   "outputs": [],
   "source": []
  }
 ],
 "metadata": {
  "kernelspec": {
   "display_name": "Python 3",
   "language": "python",
   "name": "python3"
  },
  "language_info": {
   "codemirror_mode": {
    "name": "ipython",
    "version": 3
   },
   "file_extension": ".py",
   "mimetype": "text/x-python",
   "name": "python",
   "nbconvert_exporter": "python",
   "pygments_lexer": "ipython3",
   "version": "3.4.4"
  }
 },
 "nbformat": 4,
 "nbformat_minor": 0
}
